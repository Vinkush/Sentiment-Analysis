{
 "cells": [
  {
   "cell_type": "markdown",
   "metadata": {
    "id": "PaLKRIk3uMM3"
   },
   "source": [
    "Importing the required packages"
   ]
  },
  {
   "cell_type": "code",
   "execution_count": 2,
   "metadata": {
    "id": "cBO5f7yqzhoT"
   },
   "outputs": [],
   "source": [
    "import requests\n",
    "import matplotlib.pyplot as plt\n",
    "from bs4 import BeautifulSoup as bs\n",
    "import random"
   ]
  },
  {
   "cell_type": "code",
   "execution_count": 3,
   "metadata": {
    "id": "eN9Bfd2czZq5"
   },
   "outputs": [],
   "source": [
    "YELP_TOKEN = \"12zz7ZvufU8cPdMvZg4dKg4qg3AY8aBmrN6SUcs21q_x3KvSpj-SajPOLiOdm6_s6V2cOyQ9nq65T5p7BX1Ufrd2-8mmJo-Nx2n50HrOgfj7kJd5PCPX-ihHoPy8YXYx\""
   ]
  },
  {
   "cell_type": "code",
   "execution_count": 12,
   "metadata": {
    "id": "suYK2H-PzZq5"
   },
   "outputs": [],
   "source": [
    "r = requests.get(\"https://api.yelp.com/v3/businesses/search?location=Toronto&limit=50&offset=0\", headers={\"Authorization\": \"Bearer %s\" % YELP_TOKEN})"
   ]
  },
  {
   "cell_type": "code",
   "execution_count": 5,
   "metadata": {
    "colab": {
     "base_uri": "https://localhost:8080/"
    },
    "id": "7UEAHNxhUV3h",
    "outputId": "4b8219e8-5aee-4dff-8abe-ede2325c7ab4"
   },
   "outputs": [
    {
     "data": {
      "text/plain": [
       "{'Connection': 'keep-alive', 'content-type': 'application/json', 'ratelimit-dailylimit': '5000', 'x-routing-service': 'routing-main--useast1-5745c65d47-hjnw8; site=public_api_v3', 'ratelimit-remaining': '4946', 'ratelimit-resettime': '2021-12-18T00:00:00+00:00', 'x-b3-sampled': '0', 'x-zipkin-id': 'ae251be783dbef8e', 'server': 'envoy', 'x-cloudmap': 'routing_useast1', 'content-encoding': 'gzip', 'x-proxied': '10-65-85-173-useast1aprod', 'x-extlb': '10-65-85-173-useast1aprod', 'cache-control': 'max-age=0, no-store, private, no-transform', 'Accept-Ranges': 'bytes', 'Date': 'Fri, 17 Dec 2021 23:31:32 GMT', 'Via': '1.1 varnish', 'X-Served-By': 'cache-fty21350-FTY', 'X-Cache': 'MISS', 'X-Cache-Hits': '0', 'Vary': 'Accept-Encoding', 'transfer-encoding': 'chunked'}"
      ]
     },
     "execution_count": 5,
     "metadata": {},
     "output_type": "execute_result"
    }
   ],
   "source": [
    "r.headers"
   ]
  },
  {
   "cell_type": "code",
   "execution_count": 6,
   "metadata": {
    "colab": {
     "base_uri": "https://localhost:8080/"
    },
    "id": "mkd-ARw1zZq5",
    "outputId": "b2484afe-672a-4448-f469-cd727f2f718c"
   },
   "outputs": [
    {
     "name": "stdout",
     "output_type": "stream",
     "text": [
      "200 OK b'{\"businesses\": [{\"id\": \"r_BrIgzYcwo1NAuG9dLbpg\", \"alias\": \"pai-northern-thai-kitchen-toronto-5\", \"name\": \"Pai Northern Thai Kitchen\", \"image_url\": \"https://s3-media1.fl.yelpcdn.com/bphoto/cO0LcL_SGxZUYrqVeGPJOQ/o.jpg\", \"is_closed\": false, \"url\": \"https://www.yelp.com/biz/pai-northern-thai-kitchen-toronto-5?adjust_creative=FtKJx3tKxygY3LUrNXmfyw&utm_campaign=yelp_api_v3&utm_medium=api_v3_business_search&utm_source=FtKJx3tKxygY3LUrNXmfyw\", \"review_count\": 2976, \"categories\": [{\"alias\": \"thai\", \"title\": \"Thai\"}], \"rating\": 4.5, \"coordinates\": {\"latitude\": 43.64784, \"longitude\": -79.38872}, \"transactions\": [], \"price\": \"$$\", \"location\": {\"address1\": \"18 Duncan Street\", \"address2\": \"\", \"address3\": \"\", \"city\": \"Toronto\", \"zip_code\": \"M5H 3G8\", \"country\": \"CA\", \"state\": \"ON\", \"display_address\": [\"18 Duncan Street\", \"Toronto, ON M5H 3G8\", \"Canada\"]}, \"phone\": \"+14169014724\", \"display_phone\": \"+1 416-901-4724\", \"distance\": 3009.3347434869856}, {\"id\": \"iGEvDk6hsizigmXhDKs2Vg\", \"alias\": \"seven-lives-tacos-y-mariscos-toronto\", \"name\": \"Seven Lives Tacos y Mariscos\", \"image_url\": \"https://s3-media3.fl.yelpcdn.com/bphoto/TMB02pQtqOwzXMm_oomjJw/o.jpg\", \"is_closed\": false, \"url\": \"https://www.yelp.com/biz/seven-lives-tacos-y-mariscos-toronto?adjust_creative=FtKJx3tKxygY3LUrNXmfyw&utm_campaign=yelp_api_v3&utm_medium=api_v3_business_search&utm_source=FtKJx3tKxygY3LUrNXmfyw\", \"review_count\": 1345, \"categories\": [{\"alias\": \"mexican\", \"title\": \"Mexican\"}], \"rating\": 4.5, \"coordinates\": {\"latitude\": 43.6543411559068, \"longitude\": -79.4004796072841}, \"transactions\": [], \"price\": \"$\", \"location\": {\"address1\": \"72 Kensington Avenue\", \"address2\": \"\", \"address3\": \"\", \"city\": \"Toronto\", \"zip_code\": \"M5T 2K1\", \"country\": \"CA\", \"state\": \"ON\", \"display_address\": [\"72 Kensington Avenue\", \"Toronto, ON M5T 2K1\", \"Canada\"]}, \"phone\": \"+14163934636\", \"display_phone\": \"+1 416-393-4636\", \"distance\": 2236.76924282367}, {\"id\": \"RtUvSWO_UZ8V3Wpj0n077w\", \"alias\": \"kinka-izakaya-original-toronto\", \"name\": \"KINKA IZAKAYA ORIGINAL\", \"image_url\": \"https://s3-media3.fl.yelpcdn.com/bphoto/nHFVveLBqeiCGy12R2CnRA/o.jpg\", \"is_closed\": false, \"url\": \"https://www.yelp.com/biz/kinka-izakaya-original-toronto?adjust_creative=FtKJx3tKxygY3LUrNXmfyw&utm_campaign=yelp_api_v3&utm_medium=api_v3_business_search&utm_source=FtKJx3tKxygY3LUrNXmfyw\", \"review_count\": 1647, \"categories\": [{\"alias\": \"japanese\", \"title\": \"Japanese\"}, {\"alias\": \"pubs\", \"title\": \"Pubs\"}], \"rating\": 4.0, \"coordinates\": {\"latitude\": 43.66045, \"longitude\": -79.37915}, \"transactions\": [\"restaurant_reservation\"], \"price\": \"$$\", \"location\": {\"address1\": \"398 Church Street\", \"address2\": \"\", \"address3\": \"\", \"city\": \"Toronto\", \"zip_code\": \"M5B 2A2\", \"country\": \"CA\", \"state\": \"ON\", \"display_address\": [\"398 Church Street\", \"Toronto, ON M5B 2A2\", \"Canada\"]}, \"phone\": \"+14169770999\", \"display_phone\": \"+1 416-977-0999\", \"distance\": 2089.1715664300095}, {\"id\": \"N93EYZy9R0sdlEvubu94ig\", \"alias\": \"banh-mi-boys-toronto\", \"name\": \"Banh Mi Boys\", \"image_url\": \"https://s3-media4.fl.yelpcdn.com/bphoto/PegGigxIZ7BfCbzAsXBtXw/o.jpg\", \"is_closed\": false, \"url\": \"https://www.yelp.com/biz/banh-mi-boys-toronto?adjust_creative=FtKJx3tKxygY3LUrNXmfyw&utm_campaign=yelp_api_v3&utm_medium=api_v3_business_search&utm_source=FtKJx3tKxygY3LUrNXmfyw\", \"review_count\": 1142, \"categories\": [{\"alias\": \"vietnamese\", \"title\": \"Vietnamese\"}, {\"alias\": \"sandwiches\", \"title\": \"Sandwiches\"}], \"rating\": 4.5, \"coordinates\": {\"latitude\": 43.64884, \"longitude\": -79.39695}, \"transactions\": [], \"price\": \"$\", \"location\": {\"address1\": \"392 Queen Street W\", \"address2\": \"\", \"address3\": \"\", \"city\": \"Toronto\", \"zip_code\": \"M5V 2A9\", \"country\": \"CA\", \"state\": \"ON\", \"display_address\": [\"392 Queen Street W\", \"Toronto, ON M5V 2A9\", \"Canada\"]}, \"phone\": \"+14163630588\", \"display_phone\": \"+1 416-363-0588\", \"distance\": 2834.97359074939}, {\"id\": \"mZRKH9ngRY92bI_irrHq6w\", \"alias\": \"richmond-station-toronto\", \"name\": \"Richmond Station\", \"image_url\": \"https://s3-media1.fl.yelpcdn.com/bphoto/NdPPUsq5L7gAJ-mqr6t7-w/o.jpg\", \"is_closed\": false, \"url\": \"https://www.yelp.com/biz/richmond-station-toronto?adjust_creative=FtKJx3tKxygY3LUrNXmfyw&utm_campaign=yelp_api_v3&utm_medium=api_v3_business_search&utm_source=FtKJx3tKxygY3LUrNXmfyw\", \"review_count\": 788, \"categories\": [{\"alias\": \"newcanadian\", \"title\": \"Canadian (New)\"}], \"rating\": 4.5, \"coordinates\": {\"latitude\": 43.6513729, \"longitude\": -79.379285}, \"transactions\": [], \"price\": \"$$$\", \"location\": {\"address1\": \"1 Richmond Street W\", \"address2\": \"\", \"address3\": \"\", \"city\": \"Toronto\", \"zip_code\": \"M5H 3W4\", \"country\": \"CA\", \"state\": \"ON\", \"display_address\": [\"1 Richmond Street W\", \"Toronto, ON M5H 3W4\", \"Canada\"]}, \"phone\": \"+16477481444\", \"display_phone\": \"+1 647-748-1444\", \"distance\": 2911.814072486624}, {\"id\": \"Yl2TN9c23ZGLUBSD9ks5Uw\", \"alias\": \"byblos-toronto-2\", \"name\": \"Byblos\", \"image_url\": \"https://s3-media4.fl.yelpcdn.com/bphoto/wkn0TxG5zWjr0OJ_aN5Jmw/o.jpg\", \"is_closed\": false, \"url\": \"https://www.yelp.com/biz/byblos-toronto-2?adjust_creative=FtKJx3tKxygY3LUrNXmfyw&utm_campaign=yelp_api_v3&utm_medium=api_v3_business_search&utm_source=FtKJx3tKxygY3LUrNXmfyw\", \"review_count\": 814, \"categories\": [{\"alias\": \"mediterranean\", \"title\": \"Mediterranean\"}, {\"alias\": \"mideastern\", \"title\": \"Middle Eastern\"}], \"rating\": 4.5, \"coordinates\": {\"latitude\": 43.647546, \"longitude\": -79.388123}, \"transactions\": [], \"price\": \"$$$\", \"location\": {\"address1\": \"11 Duncan Street\", \"address2\": \"\", \"address3\": \"\", \"city\": \"Toronto\", \"zip_code\": \"M5V 3M2\", \"country\": \"CA\", \"state\": \"ON\", \"display_address\": [\"11 Duncan Street\", \"Toronto, ON M5V 3M2\", \"Canada\"]}, \"phone\": \"+16476600909\", \"display_phone\": \"+1 647-660-0909\", \"distance\": 3054.112033364548}, {\"id\": \"uAAWlLdsoUf872F1FKiX1A\", \"alias\": \"bang-bang-ice-cream-toronto-2\", \"name\": \"Bang Bang Ice Cream\", \"image_url\": \"https://s3-media2.fl.yelpcdn.com/bphoto/yhJMLh-VW5rJ96V_0tdo1A/o.jpg\", \"is_closed\": false, \"url\": \"https://www.yelp.com/biz/bang-bang-ice-cream-toronto-2?adjust_creative=FtKJx3tKxygY3LUrNXmfyw&utm_campaign=yelp_api_v3&utm_medium=api_v3_business_search&utm_source=FtKJx3tKxygY3LUrNXmfyw\", \"review_count\": 1036, \"categories\": [{\"alias\": \"desserts\", \"title\": \"Desserts\"}, {\"alias\": \"icecream\", \"title\": \"Ice Cream & Frozen Yogurt\"}, {\"alias\": \"bakeries\", \"title\": \"Bakeries\"}], \"rating\": 4.5, \"coordinates\": {\"latitude\": 43.6462863, \"longitude\": -79.4194744}, \"transactions\": [], \"price\": \"$$\", \"location\": {\"address1\": \"93A Ossington Avenue\", \"address2\": null, \"address3\": \"\", \"city\": \"Toronto\", \"zip_code\": \"M6J 2Z2\", \"country\": \"CA\", \"state\": \"ON\", \"display_address\": [\"93A Ossington Avenue\", \"Toronto, ON M6J 2Z2\", \"Canada\"]}, \"phone\": \"+16473481900\", \"display_phone\": \"+1 647-348-1900\", \"distance\": 3607.175212437693}, {\"id\": \"crstB-H5rOfbXhV8pX0e6g\", \"alias\": \"ramen-isshin-toronto\", \"name\": \"Ramen Isshin\", \"image_url\": \"https://s3-media2.fl.yelpcdn.com/bphoto/LvnYnumInn7dmCewmQsU3w/o.jpg\", \"is_closed\": false, \"url\": \"https://www.yelp.com/biz/ramen-isshin-toronto?adjust_creative=FtKJx3tKxygY3LUrNXmfyw&utm_campaign=yelp_api_v3&utm_medium=api_v3_business_search&utm_source=FtKJx3tKxygY3LUrNXmfyw\", \"review_count\": 719, \"categories\": [{\"alias\": \"ramen\", \"title\": \"Ramen\"}], \"rating\": 4.5, \"coordinates\": {\"latitude\": 43.65634, \"longitude\": -79.40689}, \"transactions\": [], \"price\": \"$$\", \"location\": {\"address1\": \"421 College Street\", \"address2\": null, \"address3\": \"\", \"city\": \"Toronto\", \"zip_code\": \"M5T 1T1\", \"country\": \"CA\", \"state\": \"ON\", \"display_address\": [\"421 College Street\", \"Toronto, ON M5T 1T1\", \"Canada\"]}, \"phone\": \"+14163674013\", \"display_phone\": \"+1 416-367-4013\", \"distance\": 2156.2378719884887}, {\"id\": \"aLcFhMe6DDJ430zelCpd2A\", \"alias\": \"khao-san-road-toronto\", \"name\": \"Khao San Road\", \"image_url\": \"https://s3-media1.fl.yelpcdn.com/bphoto/uHafdsYnBp1bjJLd0UqPEA/o.jpg\", \"is_closed\": false, \"url\": \"https://www.yelp.com/biz/khao-san-road-toronto?adjust_creative=FtKJx3tKxygY3LUrNXmfyw&utm_campaign=yelp_api_v3&utm_medium=api_v3_business_search&utm_source=FtKJx3tKxygY3LUrNXmfyw\", \"review_count\": 1575, \"categories\": [{\"alias\": \"thai\", \"title\": \"Thai\"}], \"rating\": 4.0, \"coordinates\": {\"latitude\": 43.64634, \"longitude\": -79.39359}, \"transactions\": [], \"price\": \"$$\", \"location\": {\"address1\": \"11 Charlotte Street\", \"address2\": null, \"address3\": \"\", \"city\": \"Toronto\", \"zip_code\": \"M5V 2H5\", \"country\": \"CA\", \"state\": \"ON\", \"display_address\": [\"11 Charlotte Street\", \"Toronto, ON M5V 2H5\", \"Canada\"]}, \"phone\": \"+16473525773\", \"display_phone\": \"+1 647-352-5773\", \"distance\": 3109.008392605519}, {\"id\": \"0a2O150ytxrDjDzXNfRWkA\", \"alias\": \"miku-toronto-2\", \"name\": \"Miku\", \"image_url\": \"https://s3-media3.fl.yelpcdn.com/bphoto/S-iX07CuKkgnk8Q7ECpnTg/o.jpg\", \"is_closed\": false, \"url\": \"https://www.yelp.com/biz/miku-toronto-2?adjust_creative=FtKJx3tKxygY3LUrNXmfyw&utm_campaign=yelp_api_v3&utm_medium=api_v3_business_search&utm_source=FtKJx3tKxygY3LUrNXmfyw\", \"review_count\": 802, \"categories\": [{\"alias\": \"japanese\", \"title\": \"Japanese\"}, {\"alias\": \"sushi\", \"title\": \"Sushi Bars\"}], \"rating\": 4.0, \"coordinates\": {\"latitude\": 43.6412346, \"longitude\": -79.3773697}, \"transactions\": [], \"price\": \"$$$\", \"location\": {\"address1\": \"105-10 Bay Street\", \"address2\": \"\", \"address3\": \"\", \"city\": \"Toronto\", \"zip_code\": \"M5J 2R8\", \"country\": \"CA\", \"state\": \"ON\", \"display_address\": [\"105-10 Bay Street\", \"Toronto, ON M5J 2R8\", \"Canada\"]}, \"phone\": \"+16473477347\", \"display_phone\": \"+1 647-347-7347\", \"distance\": 3993.962633165498}, {\"id\": \"pSMK_FtULKiU-iuh7SMKwg\", \"alias\": \"blaze-pizza-toronto-7\", \"name\": \"Blaze Pizza\", \"image_url\": \"https://s3-media2.fl.yelpcdn.com/bphoto/qRVa_sklFtVu7rmwz4bMDQ/o.jpg\", \"is_closed\": false, \"url\": \"https://www.yelp.com/biz/blaze-pizza-toronto-7?adjust_creative=FtKJx3tKxygY3LUrNXmfyw&utm_campaign=yelp_api_v3&utm_medium=api_v3_business_search&utm_source=FtKJx3tKxygY3LUrNXmfyw\", \"review_count\": 539, \"categories\": [{\"alias\": \"pizza\", \"title\": \"Pizza\"}, {\"alias\": \"salad\", \"title\": \"Salad\"}, {\"alias\": \"hotdogs\", \"title\": \"Fast Food\"}], \"rating\": 4.5, \"coordinates\": {\"latitude\": 43.6565313336776, \"longitude\": -79.3800427473602}, \"transactions\": [], \"price\": \"$$\", \"location\": {\"address1\": \"10 Dundas Street East\", \"address2\": \"#124\", \"address3\": \"\", \"city\": \"Toronto\", \"zip_code\": \"M5B 2G9\", \"country\": \"CA\", \"state\": \"ON\", \"display_address\": [\"10 Dundas Street East\", \"#124\", \"Toronto, ON M5B 2G9\", \"Canada\"]}, \"phone\": \"+16479331028\", \"display_phone\": \"+1 647-933-1028\", \"distance\": 2391.020404424121}, {\"id\": \"q9_gLvTNf11etVxbH7JY0Q\", \"alias\": \"yasu-toronto-8\", \"name\": \"Yasu\", \"image_url\": \"https://s3-media3.fl.yelpcdn.com/bphoto/X7fGAddrOK2CUrtwOQSPBA/o.jpg\", \"is_closed\": false, \"url\": \"https://www.yelp.com/biz/yasu-toronto-8?adjust_creative=FtKJx3tKxygY3LUrNXmfyw&utm_campaign=yelp_api_v3&utm_medium=api_v3_business_search&utm_source=FtKJx3tKxygY3LUrNXmfyw\", \"review_count\": 380, \"categories\": [{\"alias\": \"japanese\", \"title\": \"Japanese\"}, {\"alias\": \"sushi\", \"title\": \"Sushi Bars\"}], \"rating\": 4.5, \"coordinates\": {\"latitude\": 43.66269, \"longitude\": -79.40314}, \"transactions\": [], \"price\": \"$$$$\", \"location\": {\"address1\": \"81 Harbord Street\", \"address2\": \"\", \"address3\": \"\", \"city\": \"Toronto\", \"zip_code\": \"M5S 1G4\", \"country\": \"CA\", \"state\": \"ON\", \"display_address\": [\"81 Harbord Street\", \"Toronto, ON M5S 1G4\", \"Canada\"]}, \"phone\": \"+14164772361\", \"display_phone\": \"+1 416-477-2361\", \"distance\": 1382.2242471833936}, {\"id\": \"f5O7v_X_jCg2itqacRfxhg\", \"alias\": \"sansotei-ramen-toronto-2\", \"name\": \"Sansotei Ramen\", \"image_url\": \"https://s3-media3.fl.yelpcdn.com/bphoto/bYDPZPU4cBU0xIVSEVTXyA/o.jpg\", \"is_closed\": false, \"url\": \"https://www.yelp.com/biz/sansotei-ramen-toronto-2?adjust_creative=FtKJx3tKxygY3LUrNXmfyw&utm_campaign=yelp_api_v3&utm_medium=api_v3_business_search&utm_source=FtKJx3tKxygY3LUrNXmfyw\", \"review_count\": 881, \"categories\": [{\"alias\": \"ramen\", \"title\": \"Ramen\"}, {\"alias\": \"noodles\", \"title\": \"Noodles\"}], \"rating\": 4.0, \"coordinates\": {\"latitude\": 43.655, \"longitude\": -79.38643}, \"transactions\": [], \"price\": \"$$\", \"location\": {\"address1\": \"179 Dundas Street W\", \"address2\": \"\", \"address3\": \"\", \"city\": \"Toronto\", \"zip_code\": \"M5G 1Z8\", \"country\": \"CA\", \"state\": \"ON\", \"display_address\": [\"179 Dundas Street W\", \"Toronto, ON M5G 1Z8\", \"Canada\"]}, \"phone\": \"+16477483833\", \"display_phone\": \"+1 647-748-3833\", \"distance\": 2299.8634145383508}, {\"id\": \"ZumOnWbstgsIE6bJlxw0_Q\", \"alias\": \"jacobs-and-co-steakhouse-toronto\", \"name\": \"Jacobs & Co. Steakhouse\", \"image_url\": \"https://s3-media2.fl.yelpcdn.com/bphoto/uj1gFLRF6j2JhWn-MIbWow/o.jpg\", \"is_closed\": false, \"url\": \"https://www.yelp.com/biz/jacobs-and-co-steakhouse-toronto?adjust_creative=FtKJx3tKxygY3LUrNXmfyw&utm_campaign=yelp_api_v3&utm_medium=api_v3_business_search&utm_source=FtKJx3tKxygY3LUrNXmfyw\", \"review_count\": 556, \"categories\": [{\"alias\": \"steak\", \"title\": \"Steakhouses\"}], \"rating\": 4.5, \"coordinates\": {\"latitude\": 43.64539876116, \"longitude\": -79.3980279011192}, \"transactions\": [], \"price\": \"$$$$\", \"location\": {\"address1\": \"12 Brant Street\", \"address2\": \"\", \"address3\": \"\", \"city\": \"Toronto\", \"zip_code\": \"M5V 1K4\", \"country\": \"CA\", \"state\": \"ON\", \"display_address\": [\"12 Brant Street\", \"Toronto, ON M5V 1K4\", \"Canada\"]}, \"phone\": \"+14163660200\", \"display_phone\": \"+1 416-366-0200\", \"distance\": 3213.132106562395}, {\"id\": \"e41TP5cXZqSrz50xCBJqZw\", \"alias\": \"insomnia-restaurant-and-lounge-toronto\", \"name\": \"Insomnia Restaurant & Lounge\", \"image_url\": \"https://s3-media4.fl.yelpcdn.com/bphoto/rwQeDavE6_e16b8gdV_smw/o.jpg\", \"is_closed\": false, \"url\": \"https://www.yelp.com/biz/insomnia-restaurant-and-lounge-toronto?adjust_creative=FtKJx3tKxygY3LUrNXmfyw&utm_campaign=yelp_api_v3&utm_medium=api_v3_business_search&utm_source=FtKJx3tKxygY3LUrNXmfyw\", \"review_count\": 932, \"categories\": [{\"alias\": \"lounges\", \"title\": \"Lounges\"}, {\"alias\": \"breakfast_brunch\", \"title\": \"Breakfast & Brunch\"}, {\"alias\": \"comfortfood\", \"title\": \"Comfort Food\"}], \"rating\": 4.0, \"coordinates\": {\"latitude\": 43.665961, \"longitude\": -79.411003}, \"transactions\": [], \"price\": \"$$\", \"location\": {\"address1\": \"563 Bloor Street W\", \"address2\": \"\", \"address3\": \"\", \"city\": \"Toronto\", \"zip_code\": \"M5S 1Y6\", \"country\": \"CA\", \"state\": \"ON\", \"display_address\": [\"563 Bloor Street W\", \"Toronto, ON M5S 1Y6\", \"Canada\"]}, \"phone\": \"+14165883907\", \"display_phone\": \"+1 416-588-3907\", \"distance\": 1468.7971044745764}, {\"id\": \"g6AFW-zY0wDvBl9U82g4zg\", \"alias\": \"baretto-caffe-toronto-4\", \"name\": \"Baretto Caffe\", \"image_url\": \"https://s3-media4.fl.yelpcdn.com/bphoto/WmOnZV-SoRfQ3R65dcJd1w/o.jpg\", \"is_closed\": false, \"url\": \"https://www.yelp.com/biz/baretto-caffe-toronto-4?adjust_creative=FtKJx3tKxygY3LUrNXmfyw&utm_campaign=yelp_api_v3&utm_medium=api_v3_business_search&utm_source=FtKJx3tKxygY3LUrNXmfyw\", \"review_count\": 331, \"categories\": [{\"alias\": \"cafes\", \"title\": \"Cafes\"}, {\"alias\": \"italian\", \"title\": \"Italian\"}], \"rating\": 5.0, \"coordinates\": {\"latitude\": 43.74471, \"longitude\": -79.34643}, \"transactions\": [], \"price\": \"$$\", \"location\": {\"address1\": \"1262 Don Mills Road\", \"address2\": \"\", \"address3\": \"\", \"city\": \"Toronto\", \"zip_code\": \"M3B 2W7\", \"country\": \"CA\", \"state\": \"ON\", \"display_address\": [\"1262 Don Mills Road\", \"Toronto, ON M3B 2W7\", \"Canada\"]}, \"phone\": \"+14163850003\", \"display_phone\": \"+1 416-385-0003\", \"distance\": 8814.471101676705}, {\"id\": \"B70iTJjcPkuYn8ouUewWgw\", \"alias\": \"gusto-101-toronto\", \"name\": \"Gusto 101\", \"image_url\": \"https://s3-media4.fl.yelpcdn.com/bphoto/BhNstduAAgDsQE-utXvIwA/o.jpg\", \"is_closed\": false, \"url\": \"https://www.yelp.com/biz/gusto-101-toronto?adjust_creative=FtKJx3tKxygY3LUrNXmfyw&utm_campaign=yelp_api_v3&utm_medium=api_v3_business_search&utm_source=FtKJx3tKxygY3LUrNXmfyw\", \"review_count\": 1008, \"categories\": [{\"alias\": \"italian\", \"title\": \"Italian\"}], \"rating\": 4.0, \"coordinates\": {\"latitude\": 43.645002131066, \"longitude\": -79.400309337027}, \"transactions\": [], \"price\": \"$$\", \"location\": {\"address1\": \"101 Portland Street\", \"address2\": \"\", \"address3\": \"\", \"city\": \"Toronto\", \"zip_code\": \"M5V 2N3\", \"country\": \"CA\", \"state\": \"ON\", \"display_address\": [\"101 Portland Street\", \"Toronto, ON M5V 2N3\", \"Canada\"]}, \"phone\": \"+14165049669\", \"display_phone\": \"+1 416-504-9669\", \"distance\": 3267.8432435946374}, {\"id\": \"JMiaNitMzMbJm6Kh0RbT5A\", \"alias\": \"canoe-toronto-2\", \"name\": \"Canoe\", \"image_url\": \"https://s3-media4.fl.yelpcdn.com/bphoto/ScmYYywgR5R23a5IvT960A/o.jpg\", \"is_closed\": false, \"url\": \"https://www.yelp.com/biz/canoe-toronto-2?adjust_creative=FtKJx3tKxygY3LUrNXmfyw&utm_campaign=yelp_api_v3&utm_medium=api_v3_business_search&utm_source=FtKJx3tKxygY3LUrNXmfyw\", \"review_count\": 674, \"categories\": [{\"alias\": \"newcanadian\", \"title\": \"Canadian (New)\"}], \"rating\": 4.0, \"coordinates\": {\"latitude\": 43.646954, \"longitude\": -79.382159}, \"transactions\": [], \"price\": \"$$$$\", \"location\": {\"address1\": \"66 Wellington Street  W\", \"address2\": \"54th Floor\", \"address3\": \"TD Bank Tower\", \"city\": \"Toronto\", \"zip_code\": \"M5K 1H6\", \"country\": \"CA\", \"state\": \"ON\", \"display_address\": [\"66 Wellington Street  W\", \"54th Floor\", \"TD Bank Tower\", \"Toronto, ON M5K 1H6\", \"Canada\"]}, \"phone\": \"+14163640054\", \"display_phone\": \"+1 416-364-0054\", \"distance\": 3259.5714701039}, {\"id\": \"trKyIRyjKqVSZmcU0AnICQ\", \"alias\": \"pearl-diver-toronto-2\", \"name\": \"Pearl Diver\", \"image_url\": \"https://s3-media1.fl.yelpcdn.com/bphoto/QhQiyQkjNbO6BI24Wogaaw/o.jpg\", \"is_closed\": false, \"url\": \"https://www.yelp.com/biz/pearl-diver-toronto-2?adjust_creative=FtKJx3tKxygY3LUrNXmfyw&utm_campaign=yelp_api_v3&utm_medium=api_v3_business_search&utm_source=FtKJx3tKxygY3LUrNXmfyw\", \"review_count\": 577, \"categories\": [{\"alias\": \"seafood\", \"title\": \"Seafood\"}, {\"alias\": \"comfortfood\", \"title\": \"Comfort Food\"}, {\"alias\": \"breakfast_brunch\", \"title\": \"Breakfast & Brunch\"}], \"rating\": 4.0, \"coordinates\": {\"latitude\": 43.65163, \"longitude\": -79.37375}, \"transactions\": [], \"price\": \"$$\", \"location\": {\"address1\": \"100 Adelaide Street E\", \"address2\": null, \"address3\": \"\", \"city\": \"Toronto\", \"zip_code\": \"M5C 1K9\", \"country\": \"CA\", \"state\": \"ON\", \"display_address\": [\"100 Adelaide Street E\", \"Toronto, ON M5C 1K9\", \"Canada\"]}, \"phone\": \"+14163667827\", \"display_phone\": \"+1 416-366-7827\", \"distance\": 3132.957321541388}, {\"id\": \"h_4dPV9M9aYaBliH1Eoeeg\", \"alias\": \"wvrst-toronto\", \"name\": \"Wvrst\", \"image_url\": \"https://s3-media1.fl.yelpcdn.com/bphoto/c9Scd6KND4JP_qU_9qJFHg/o.jpg\", \"is_closed\": false, \"url\": \"https://www.yelp.com/biz/wvrst-toronto?adjust_creative=FtKJx3tKxygY3LUrNXmfyw&utm_campaign=yelp_api_v3&utm_medium=api_v3_business_search&utm_source=FtKJx3tKxygY3LUrNXmfyw\", \"review_count\": 798, \"categories\": [{\"alias\": \"german\", \"title\": \"German\"}, {\"alias\": \"beerbar\", \"title\": \"Beer Bar\"}], \"rating\": 4.0, \"coordinates\": {\"latitude\": 43.64418555054, \"longitude\": -79.401014855291}, \"transactions\": [], \"price\": \"$$\", \"location\": {\"address1\": \"609 King Street W\", \"address2\": \"\", \"address3\": \"\", \"city\": \"Toronto\", \"zip_code\": \"M5V 1M5\", \"country\": \"CA\", \"state\": \"ON\", \"display_address\": [\"609 King Street W\", \"Toronto, ON M5V 1M5\", \"Canada\"]}, \"phone\": \"+14167037775\", \"display_phone\": \"+1 416-703-7775\", \"distance\": 3363.535617621877}, {\"id\": \"kOFDVcnj-8fd3doIpCQ06A\", \"alias\": \"mildreds-temple-kitchen-toronto\", \"name\": \"Mildred\\'s Temple Kitchen\", \"image_url\": \"https://s3-media1.fl.yelpcdn.com/bphoto/zo_n6qJiP9Q9l1UWurP4TQ/o.jpg\", \"is_closed\": false, \"url\": \"https://www.yelp.com/biz/mildreds-temple-kitchen-toronto?adjust_creative=FtKJx3tKxygY3LUrNXmfyw&utm_campaign=yelp_api_v3&utm_medium=api_v3_business_search&utm_source=FtKJx3tKxygY3LUrNXmfyw\", \"review_count\": 927, \"categories\": [{\"alias\": \"breakfast_brunch\", \"title\": \"Breakfast & Brunch\"}, {\"alias\": \"newcanadian\", \"title\": \"Canadian (New)\"}], \"rating\": 4.0, \"coordinates\": {\"latitude\": 43.6399108749312, \"longitude\": -79.4204235076904}, \"transactions\": [], \"price\": \"$$\", \"location\": {\"address1\": \"85 Hanna Avenue\", \"address2\": \"Suite 104\", \"address3\": \"\", \"city\": \"Toronto\", \"zip_code\": \"M6K 3S3\", \"country\": \"CA\", \"state\": \"ON\", \"display_address\": [\"85 Hanna Avenue\", \"Suite 104\", \"Toronto, ON M6K 3S3\", \"Canada\"]}, \"phone\": \"+14165885695\", \"display_phone\": \"+1 416-588-5695\", \"distance\": 4267.601506172597}, {\"id\": \"Qmwfg-PtYuCo5Q_IwcA_HQ\", \"alias\": \"jabistro-toronto-2\", \"name\": \"JaBistro\", \"image_url\": \"https://s3-media3.fl.yelpcdn.com/bphoto/AcTjxOEi_DeBj3Eg9bj1zQ/o.jpg\", \"is_closed\": false, \"url\": \"https://www.yelp.com/biz/jabistro-toronto-2?adjust_creative=FtKJx3tKxygY3LUrNXmfyw&utm_campaign=yelp_api_v3&utm_medium=api_v3_business_search&utm_source=FtKJx3tKxygY3LUrNXmfyw\", \"review_count\": 549, \"categories\": [{\"alias\": \"japanese\", \"title\": \"Japanese\"}, {\"alias\": \"sushi\", \"title\": \"Sushi Bars\"}], \"rating\": 4.0, \"coordinates\": {\"latitude\": 43.64989, \"longitude\": -79.38821}, \"transactions\": [], \"price\": \"$$$\", \"location\": {\"address1\": \"222 Richmond Street W\", \"address2\": \"\", \"address3\": \"\", \"city\": \"Toronto\", \"zip_code\": \"M5V 1V6\", \"country\": \"CA\", \"state\": \"ON\", \"display_address\": [\"222 Richmond Street W\", \"Toronto, ON M5V 1V6\", \"Canada\"]}, \"phone\": \"+16477480222\", \"display_phone\": \"+1 647-748-0222\", \"distance\": 2811.7906891325893}, {\"id\": \"eD-XLSo-j8uIoTnIlrG8YA\", \"alias\": \"juicy-dumpling-toronto\", \"name\": \"Juicy Dumpling\", \"image_url\": \"https://s3-media1.fl.yelpcdn.com/bphoto/kPmTA4qqy-1slmnEYXdngw/o.jpg\", \"is_closed\": false, \"url\": \"https://www.yelp.com/biz/juicy-dumpling-toronto?adjust_creative=FtKJx3tKxygY3LUrNXmfyw&utm_campaign=yelp_api_v3&utm_medium=api_v3_business_search&utm_source=FtKJx3tKxygY3LUrNXmfyw\", \"review_count\": 522, \"categories\": [{\"alias\": \"dimsum\", \"title\": \"Dim Sum\"}, {\"alias\": \"dumplings\", \"title\": \"Dumplings\"}], \"rating\": 4.0, \"coordinates\": {\"latitude\": 43.65252, \"longitude\": -79.39854}, \"transactions\": [], \"price\": \"$\", \"location\": {\"address1\": \"280 Spadina Ave\", \"address2\": \"Unit M-N\", \"address3\": null, \"city\": \"Toronto\", \"zip_code\": \"M5T 0A1\", \"country\": \"CA\", \"state\": \"ON\", \"display_address\": [\"280 Spadina Ave\", \"Unit M-N\", \"Toronto, ON M5T 0A1\", \"Canada\"]}, \"phone\": \"+16473525678\", \"display_phone\": \"+1 647-352-5678\", \"distance\": 2437.3110687831645}, {\"id\": \"saijdv-vXJrvsCfvr7SZOw\", \"alias\": \"katsuya-toronto-5\", \"name\": \"Katsuya\", \"image_url\": \"https://s3-media3.fl.yelpcdn.com/bphoto/3fwkOKaWQzfgcTKeht4vig/o.jpg\", \"is_closed\": false, \"url\": \"https://www.yelp.com/biz/katsuya-toronto-5?adjust_creative=FtKJx3tKxygY3LUrNXmfyw&utm_campaign=yelp_api_v3&utm_medium=api_v3_business_search&utm_source=FtKJx3tKxygY3LUrNXmfyw\", \"review_count\": 438, \"categories\": [{\"alias\": \"japanese\", \"title\": \"Japanese\"}, {\"alias\": \"asianfusion\", \"title\": \"Asian Fusion\"}], \"rating\": 4.5, \"coordinates\": {\"latitude\": 43.65995, \"longitude\": -79.37882}, \"transactions\": [], \"price\": \"$$\", \"location\": {\"address1\": \"66 Gerrard Street E\", \"address2\": \"Unit 100\", \"address3\": \"\", \"city\": \"Toronto\", \"zip_code\": \"M5B 2M2\", \"country\": \"CA\", \"state\": \"ON\", \"display_address\": [\"66 Gerrard Street E\", \"Unit 100\", \"Toronto, ON M5B 2M2\", \"Canada\"]}, \"phone\": \"+14165917756\", \"display_phone\": \"+1 416-591-7756\", \"distance\": 2152.4014803938603}, {\"id\": \"_T7f2wUgNlJqxsR-cR89SQ\", \"alias\": \"scaramouche-restaurant-pasta-bar-and-grill-toronto\", \"name\": \"Scaramouche Restaurant Pasta Bar & Grill\", \"image_url\": \"https://s3-media2.fl.yelpcdn.com/bphoto/azdFDOOhQ6Rw99h_N4t3sw/o.jpg\", \"is_closed\": false, \"url\": \"https://www.yelp.com/biz/scaramouche-restaurant-pasta-bar-and-grill-toronto?adjust_creative=FtKJx3tKxygY3LUrNXmfyw&utm_campaign=yelp_api_v3&utm_medium=api_v3_business_search&utm_source=FtKJx3tKxygY3LUrNXmfyw\", \"review_count\": 298, \"categories\": [{\"alias\": \"french\", \"title\": \"French\"}, {\"alias\": \"bars\", \"title\": \"Bars\"}], \"rating\": 4.5, \"coordinates\": {\"latitude\": 43.68155, \"longitude\": -79.39991}, \"transactions\": [], \"price\": \"$$$$\", \"location\": {\"address1\": \"1 Benvenuto Place\", \"address2\": \"\", \"address3\": \"\", \"city\": \"Toronto\", \"zip_code\": \"M4V 2L1\", \"country\": \"CA\", \"state\": \"ON\", \"display_address\": [\"1 Benvenuto Place\", \"Toronto, ON M4V 2L1\", \"Canada\"]}, \"phone\": \"+14169618011\", \"display_phone\": \"+1 416-961-8011\", \"distance\": 831.4897662752536}, {\"id\": \"k6zmSLmYAquCpJGKNnTgSQ\", \"alias\": \"the-stockyards-toronto\", \"name\": \"The Stockyards\", \"image_url\": \"https://s3-media1.fl.yelpcdn.com/bphoto/LPPpXsaTxDyu0JHqqvR4iA/o.jpg\", \"is_closed\": false, \"url\": \"https://www.yelp.com/biz/the-stockyards-toronto?adjust_creative=FtKJx3tKxygY3LUrNXmfyw&utm_campaign=yelp_api_v3&utm_medium=api_v3_business_search&utm_source=FtKJx3tKxygY3LUrNXmfyw\", \"review_count\": 729, \"categories\": [{\"alias\": \"tradamerican\", \"title\": \"American (Traditional)\"}, {\"alias\": \"bbq\", \"title\": \"Barbeque\"}, {\"alias\": \"burgers\", \"title\": \"Burgers\"}], \"rating\": 4.0, \"coordinates\": {\"latitude\": 43.68136, \"longitude\": -79.42619}, \"transactions\": [], \"price\": \"$$\", \"location\": {\"address1\": \"699 St. Clair Avenue W\", \"address2\": \"\", \"address3\": \"\", \"city\": \"Toronto\", \"zip_code\": \"M6C 1B2\", \"country\": \"CA\", \"state\": \"ON\", \"display_address\": [\"699 St. Clair Avenue W\", \"Toronto, ON M6C 1B2\", \"Canada\"]}, \"phone\": \"+14166589666\", \"display_phone\": \"+1 416-658-9666\", \"distance\": 2490.527802063797}, {\"id\": \"c6f8wBjPLDzyubEBqgcMnw\", \"alias\": \"fahrenheit-coffee-toronto\", \"name\": \"Fahrenheit Coffee\", \"image_url\": \"https://s3-media1.fl.yelpcdn.com/bphoto/G0qtDI4vD1aQk1zlPkhA5w/o.jpg\", \"is_closed\": false, \"url\": \"https://www.yelp.com/biz/fahrenheit-coffee-toronto?adjust_creative=FtKJx3tKxygY3LUrNXmfyw&utm_campaign=yelp_api_v3&utm_medium=api_v3_business_search&utm_source=FtKJx3tKxygY3LUrNXmfyw\", \"review_count\": 316, \"categories\": [{\"alias\": \"coffee\", \"title\": \"Coffee & Tea\"}], \"rating\": 4.5, \"coordinates\": {\"latitude\": 43.65244524304, \"longitude\": -79.372932326803}, \"transactions\": [], \"price\": \"$$\", \"location\": {\"address1\": \"120 Lombard Avenue\", \"address2\": null, \"address3\": \"\", \"city\": \"Toronto\", \"zip_code\": \"M5A 4J6\", \"country\": \"CA\", \"state\": \"ON\", \"display_address\": [\"120 Lombard Avenue\", \"Toronto, ON M5A 4J6\", \"Canada\"]}, \"phone\": \"+16478961774\", \"display_phone\": \"+1 647-896-1774\", \"distance\": 3096.454471500587}, {\"id\": \"RA00GtlU25TkIP9i9wd8bg\", \"alias\": \"ripleys-aquarium-of-canada-toronto\", \"name\": \"Ripley\\'s Aquarium of Canada\", \"image_url\": \"https://s3-media2.fl.yelpcdn.com/bphoto/caawISyq97XW60cHzoSrtg/o.jpg\", \"is_closed\": false, \"url\": \"https://www.yelp.com/biz/ripleys-aquarium-of-canada-toronto?adjust_creative=FtKJx3tKxygY3LUrNXmfyw&utm_campaign=yelp_api_v3&utm_medium=api_v3_business_search&utm_source=FtKJx3tKxygY3LUrNXmfyw\", \"review_count\": 605, \"categories\": [{\"alias\": \"aquariums\", \"title\": \"Aquariums\"}], \"rating\": 4.0, \"coordinates\": {\"latitude\": 43.64238, \"longitude\": -79.38604}, \"transactions\": [], \"location\": {\"address1\": \"288 Bremner Blvd\", \"address2\": \"\", \"address3\": \"\", \"city\": \"Toronto\", \"zip_code\": \"M5V 3L9\", \"country\": \"CA\", \"state\": \"ON\", \"display_address\": [\"288 Bremner Blvd\", \"Toronto, ON M5V 3L9\", \"Canada\"]}, \"phone\": \"+16473513474\", \"display_phone\": \"+1 647-351-3474\", \"distance\": 3650.5610071522055}, {\"id\": \"DE89UdHFMCN6DtYWZuer5A\", \"alias\": \"hokkaido-ramen-santouka-toronto-2\", \"name\": \"Hokkaido Ramen Santouka\", \"image_url\": \"https://s3-media2.fl.yelpcdn.com/bphoto/7j3396oBjDRXCHsYpbwL6g/o.jpg\", \"is_closed\": false, \"url\": \"https://www.yelp.com/biz/hokkaido-ramen-santouka-toronto-2?adjust_creative=FtKJx3tKxygY3LUrNXmfyw&utm_campaign=yelp_api_v3&utm_medium=api_v3_business_search&utm_source=FtKJx3tKxygY3LUrNXmfyw\", \"review_count\": 855, \"categories\": [{\"alias\": \"ramen\", \"title\": \"Ramen\"}, {\"alias\": \"noodles\", \"title\": \"Noodles\"}], \"rating\": 4.0, \"coordinates\": {\"latitude\": 43.656321731393, \"longitude\": -79.377499580039}, \"transactions\": [], \"price\": \"$$\", \"location\": {\"address1\": \"91 Dundas Street E\", \"address2\": \"\", \"address3\": \"\", \"city\": \"Toronto\", \"zip_code\": \"M5B 2C8\", \"country\": \"CA\", \"state\": \"ON\", \"display_address\": [\"91 Dundas Street E\", \"Toronto, ON M5B 2C8\", \"Canada\"]}, \"phone\": \"+16477481717\", \"display_phone\": \"+1 647-748-1717\", \"distance\": 2530.514221419954}, {\"id\": \"EEIz44ewHhOKmfTloAK13g\", \"alias\": \"alo-restaurant-toronto\", \"name\": \"Alo Restaurant\", \"image_url\": \"https://s3-media3.fl.yelpcdn.com/bphoto/96AJGvfv2xVjrbKaVhhJyg/o.jpg\", \"is_closed\": false, \"url\": \"https://www.yelp.com/biz/alo-restaurant-toronto?adjust_creative=FtKJx3tKxygY3LUrNXmfyw&utm_campaign=yelp_api_v3&utm_medium=api_v3_business_search&utm_source=FtKJx3tKxygY3LUrNXmfyw\", \"review_count\": 297, \"categories\": [{\"alias\": \"bars\", \"title\": \"Bars\"}, {\"alias\": \"french\", \"title\": \"French\"}], \"rating\": 4.5, \"coordinates\": {\"latitude\": 43.64851, \"longitude\": -79.39584}, \"transactions\": [], \"price\": \"$$$$\", \"location\": {\"address1\": \"163 Spadina Avenue\", \"address2\": \"3rd Floor\", \"address3\": \"\", \"city\": \"Toronto\", \"zip_code\": \"M5V 2A5\", \"country\": \"CA\", \"state\": \"ON\", \"display_address\": [\"163 Spadina Avenue\", \"3rd Floor\", \"Toronto, ON M5V 2A5\", \"Canada\"]}, \"phone\": \"+14162602222\", \"display_phone\": \"+1 416-260-2222\", \"distance\": 2861.5378545315702}, {\"id\": \"snw9iNNLpFYZeHotW00uVA\", \"alias\": \"lee-restaurant-toronto-3\", \"name\": \"Lee Restaurant\", \"image_url\": \"https://s3-media1.fl.yelpcdn.com/bphoto/KtfwW_2J2TUjht_g7-AOsA/o.jpg\", \"is_closed\": false, \"url\": \"https://www.yelp.com/biz/lee-restaurant-toronto-3?adjust_creative=FtKJx3tKxygY3LUrNXmfyw&utm_campaign=yelp_api_v3&utm_medium=api_v3_business_search&utm_source=FtKJx3tKxygY3LUrNXmfyw\", \"review_count\": 649, \"categories\": [{\"alias\": \"asianfusion\", \"title\": \"Asian Fusion\"}], \"rating\": 4.0, \"coordinates\": {\"latitude\": 43.644144, \"longitude\": -79.400384}, \"transactions\": [], \"price\": \"$$$\", \"location\": {\"address1\": \"601 King Street W\", \"address2\": \"\", \"address3\": \"\", \"city\": \"Toronto\", \"zip_code\": \"M5V 1M5\", \"country\": \"CA\", \"state\": \"ON\", \"display_address\": [\"601 King Street W\", \"Toronto, ON M5V 1M5\", \"Canada\"]}, \"phone\": \"+14165047867\", \"display_phone\": \"+1 416-504-7867\", \"distance\": 3363.4271111573235}, {\"id\": \"Fx5haZv9PP3E7Ljp-h7B1Q\", \"alias\": \"eggspectation-toronto-3\", \"name\": \"Eggspectation\", \"image_url\": \"https://s3-media1.fl.yelpcdn.com/bphoto/v-RtDBNWtoRx-_8lJ9J3mQ/o.jpg\", \"is_closed\": false, \"url\": \"https://www.yelp.com/biz/eggspectation-toronto-3?adjust_creative=FtKJx3tKxygY3LUrNXmfyw&utm_campaign=yelp_api_v3&utm_medium=api_v3_business_search&utm_source=FtKJx3tKxygY3LUrNXmfyw\", \"review_count\": 676, \"categories\": [{\"alias\": \"breakfast_brunch\", \"title\": \"Breakfast & Brunch\"}, {\"alias\": \"juicebars\", \"title\": \"Juice Bars & Smoothies\"}], \"rating\": 4.0, \"coordinates\": {\"latitude\": 43.6532721, \"longitude\": -79.3812455}, \"transactions\": [\"restaurant_reservation\"], \"price\": \"$$\", \"location\": {\"address1\": \"483 Bay Street\", \"address2\": \"South Tower\", \"address3\": \"\", \"city\": \"Toronto\", \"zip_code\": \"M5G 2C9\", \"country\": \"CA\", \"state\": \"ON\", \"display_address\": [\"483 Bay Street\", \"South Tower\", \"Toronto, ON M5G 2C9\", \"Canada\"]}, \"phone\": \"+14169793447\", \"display_phone\": \"+1 416-979-3447\", \"distance\": 2650.901809388898}, {\"id\": \"G24p1oGGfY3t-m8Z2lPCaQ\", \"alias\": \"tinuno-toronto\", \"name\": \"Tinuno\", \"image_url\": \"https://s3-media4.fl.yelpcdn.com/bphoto/EFz5X7DOOuZfE-HmcKq9VQ/o.jpg\", \"is_closed\": false, \"url\": \"https://www.yelp.com/biz/tinuno-toronto?adjust_creative=FtKJx3tKxygY3LUrNXmfyw&utm_campaign=yelp_api_v3&utm_medium=api_v3_business_search&utm_source=FtKJx3tKxygY3LUrNXmfyw\", \"review_count\": 576, \"categories\": [{\"alias\": \"filipino\", \"title\": \"Filipino\"}, {\"alias\": \"seafood\", \"title\": \"Seafood\"}], \"rating\": 4.0, \"coordinates\": {\"latitude\": 43.6711430082347, \"longitude\": -79.374853497263}, \"transactions\": [\"restaurant_reservation\"], \"price\": \"$$\", \"location\": {\"address1\": \"31 Howard Street\", \"address2\": \"\", \"address3\": null, \"city\": \"Toronto\", \"zip_code\": \"M4X 1J6\", \"country\": \"CA\", \"state\": \"ON\", \"display_address\": [\"31 Howard Street\", \"Toronto, ON M4X 1J6\", \"Canada\"]}, \"phone\": \"+16473439294\", \"display_phone\": \"+1 647-343-9294\", \"distance\": 1800.8487571437329}, {\"id\": \"SxvKjtbq5qRlFoXrU8Bo9Q\", \"alias\": \"descendant-detroit-style-pizza-toronto-2\", \"name\": \"Descendant Detroit Style Pizza\", \"image_url\": \"https://s3-media1.fl.yelpcdn.com/bphoto/s8rLn3ycy9XpW1Y3E2qmrQ/o.jpg\", \"is_closed\": false, \"url\": \"https://www.yelp.com/biz/descendant-detroit-style-pizza-toronto-2?adjust_creative=FtKJx3tKxygY3LUrNXmfyw&utm_campaign=yelp_api_v3&utm_medium=api_v3_business_search&utm_source=FtKJx3tKxygY3LUrNXmfyw\", \"review_count\": 370, \"categories\": [{\"alias\": \"pizza\", \"title\": \"Pizza\"}], \"rating\": 4.5, \"coordinates\": {\"latitude\": 43.662889, \"longitude\": -79.332404}, \"transactions\": [], \"price\": \"$$\", \"location\": {\"address1\": \"1168 Queen Street E\", \"address2\": \"\", \"address3\": \"\", \"city\": \"Toronto\", \"zip_code\": \"M4M 1L5\", \"country\": \"CA\", \"state\": \"ON\", \"display_address\": [\"1168 Queen Street E\", \"Toronto, ON M4M 1L5\", \"Canada\"]}, \"phone\": \"+16473471168\", \"display_phone\": \"+1 647-347-1168\", \"distance\": 5333.761586156729}, {\"id\": \"XYIPXJ9parr9FtvvcGI1SA\", \"alias\": \"gb-hand-pulled-noodles-toronto\", \"name\": \"GB Hand-pulled Noodles\", \"image_url\": \"https://s3-media3.fl.yelpcdn.com/bphoto/ie_WS9JWDTe3b2TLxdjC0g/o.jpg\", \"is_closed\": false, \"url\": \"https://www.yelp.com/biz/gb-hand-pulled-noodles-toronto?adjust_creative=FtKJx3tKxygY3LUrNXmfyw&utm_campaign=yelp_api_v3&utm_medium=api_v3_business_search&utm_source=FtKJx3tKxygY3LUrNXmfyw\", \"review_count\": 545, \"categories\": [{\"alias\": \"chinese\", \"title\": \"Chinese\"}, {\"alias\": \"noodles\", \"title\": \"Noodles\"}], \"rating\": 4.0, \"coordinates\": {\"latitude\": 43.65669, \"longitude\": -79.38385}, \"transactions\": [], \"price\": \"$$\", \"location\": {\"address1\": \"66 Edward Street\", \"address2\": \"\", \"address3\": null, \"city\": \"Toronto\", \"zip_code\": \"M5G 1C9\", \"country\": \"CA\", \"state\": \"ON\", \"display_address\": [\"66 Edward Street\", \"Toronto, ON M5G 1C9\", \"Canada\"]}, \"phone\": \"+16478721336\", \"display_phone\": \"+1 647-872-1336\", \"distance\": 2225.689360732947}, {\"id\": \"VRwT0pscR5vESCrAnUpNwQ\", \"alias\": \"wilbur-mexicana-toronto-2\", \"name\": \"Wilbur Mexicana\", \"image_url\": \"https://s3-media4.fl.yelpcdn.com/bphoto/M6bXhAPEnlxnpv5CpJC9Hg/o.jpg\", \"is_closed\": false, \"url\": \"https://www.yelp.com/biz/wilbur-mexicana-toronto-2?adjust_creative=FtKJx3tKxygY3LUrNXmfyw&utm_campaign=yelp_api_v3&utm_medium=api_v3_business_search&utm_source=FtKJx3tKxygY3LUrNXmfyw\", \"review_count\": 579, \"categories\": [{\"alias\": \"mexican\", \"title\": \"Mexican\"}], \"rating\": 4.0, \"coordinates\": {\"latitude\": 43.64494, \"longitude\": -79.39866}, \"transactions\": [], \"price\": \"$$\", \"location\": {\"address1\": \"552 King Street W\", \"address2\": \"\", \"address3\": \"\", \"city\": \"Toronto\", \"zip_code\": \"M5V 1M3\", \"country\": \"CA\", \"state\": \"ON\", \"display_address\": [\"552 King Street W\", \"Toronto, ON M5V 1M3\", \"Canada\"]}, \"phone\": \"+14167921878\", \"display_phone\": \"+1 416-792-1878\", \"distance\": 3268.102857918173}, {\"id\": \"zfQ855VX3SMA_54oVSN5Cw\", \"alias\": \"frescos-fish-and-chips-toronto\", \"name\": \"Fresco\\'s Fish & Chips\", \"image_url\": \"https://s3-media2.fl.yelpcdn.com/bphoto/eR3lw7ZeGkWjJ0Bm0eWOfA/o.jpg\", \"is_closed\": false, \"url\": \"https://www.yelp.com/biz/frescos-fish-and-chips-toronto?adjust_creative=FtKJx3tKxygY3LUrNXmfyw&utm_campaign=yelp_api_v3&utm_medium=api_v3_business_search&utm_source=FtKJx3tKxygY3LUrNXmfyw\", \"review_count\": 362, \"categories\": [{\"alias\": \"fishnchips\", \"title\": \"Fish & Chips\"}, {\"alias\": \"chicken_wings\", \"title\": \"Chicken Wings\"}, {\"alias\": \"sandwiches\", \"title\": \"Sandwiches\"}], \"rating\": 4.5, \"coordinates\": {\"latitude\": 43.6538341, \"longitude\": -79.4015484}, \"transactions\": [], \"price\": \"$$\", \"location\": {\"address1\": \"201 Augusta Avenue\", \"address2\": \"\", \"address3\": \"\", \"city\": \"Toronto\", \"zip_code\": \"M5T 2L4\", \"country\": \"CA\", \"state\": \"ON\", \"display_address\": [\"201 Augusta Avenue\", \"Toronto, ON M5T 2L4\", \"Canada\"]}, \"phone\": \"+14165464557\", \"display_phone\": \"+1 416-546-4557\", \"distance\": 2305.288561289873}, {\"id\": \"-9dmhyBvepc08KPEHlEM0w\", \"alias\": \"cn-tower-toronto\", \"name\": \"CN Tower\", \"image_url\": \"https://s3-media1.fl.yelpcdn.com/bphoto/tPVibHnDSspfme9_ilen2A/o.jpg\", \"is_closed\": false, \"url\": \"https://www.yelp.com/biz/cn-tower-toronto?adjust_creative=FtKJx3tKxygY3LUrNXmfyw&utm_campaign=yelp_api_v3&utm_medium=api_v3_business_search&utm_source=FtKJx3tKxygY3LUrNXmfyw\", \"review_count\": 790, \"categories\": [{\"alias\": \"landmarks\", \"title\": \"Landmarks & Historical Buildings\"}, {\"alias\": \"observatories\", \"title\": \"Observatories\"}], \"rating\": 4.0, \"coordinates\": {\"latitude\": 43.642561, \"longitude\": -79.387062}, \"transactions\": [], \"location\": {\"address1\": \"301 Front St W\", \"address2\": \"\", \"address3\": \"\", \"city\": \"Toronto\", \"zip_code\": \"M5V 2T6\", \"country\": \"CA\", \"state\": \"ON\", \"display_address\": [\"301 Front St W\", \"Toronto, ON M5V 2T6\", \"Canada\"]}, \"phone\": \"+14168686937\", \"display_phone\": \"+1 416-868-6937\", \"distance\": 3613.5037062228216}, {\"id\": \"lDpVyjENOz_qbxbRoyBi8w\", \"alias\": \"black-camel-toronto-2\", \"name\": \"Black Camel\", \"image_url\": \"https://s3-media1.fl.yelpcdn.com/bphoto/ILJYcVN1fNR8VZ3wbRMl0A/o.jpg\", \"is_closed\": false, \"url\": \"https://www.yelp.com/biz/black-camel-toronto-2?adjust_creative=FtKJx3tKxygY3LUrNXmfyw&utm_campaign=yelp_api_v3&utm_medium=api_v3_business_search&utm_source=FtKJx3tKxygY3LUrNXmfyw\", \"review_count\": 348, \"categories\": [{\"alias\": \"sandwiches\", \"title\": \"Sandwiches\"}], \"rating\": 4.5, \"coordinates\": {\"latitude\": 43.677122232751, \"longitude\": -79.389209714264}, \"transactions\": [], \"price\": \"$\", \"location\": {\"address1\": \"4 Crescent Road\", \"address2\": \"\", \"address3\": \"\", \"city\": \"Toronto\", \"zip_code\": \"M4W 1S9\", \"country\": \"CA\", \"state\": \"ON\", \"display_address\": [\"4 Crescent Road\", \"Toronto, ON M4W 1S9\", \"Canada\"]}, \"phone\": \"+14169297518\", \"display_phone\": \"+1 416-929-7518\", \"distance\": 688.7261913871613}, {\"id\": \"hDy-uY7Vy_TZdGBzw59lhA\", \"alias\": \"saku-sushi-toronto-2\", \"name\": \"Saku Sushi\", \"image_url\": \"https://s3-media2.fl.yelpcdn.com/bphoto/cSg8n1YAJESAjBtC0AOAhA/o.jpg\", \"is_closed\": false, \"url\": \"https://www.yelp.com/biz/saku-sushi-toronto-2?adjust_creative=FtKJx3tKxygY3LUrNXmfyw&utm_campaign=yelp_api_v3&utm_medium=api_v3_business_search&utm_source=FtKJx3tKxygY3LUrNXmfyw\", \"review_count\": 500, \"categories\": [{\"alias\": \"sushi\", \"title\": \"Sushi Bars\"}, {\"alias\": \"japanese\", \"title\": \"Japanese\"}], \"rating\": 4.0, \"coordinates\": {\"latitude\": 43.6482, \"longitude\": -79.4003}, \"transactions\": [], \"price\": \"$$\", \"location\": {\"address1\": \"478 Queen Street W\", \"address2\": null, \"address3\": \"\", \"city\": \"Toronto\", \"zip_code\": \"M5V 2B2\", \"country\": \"CA\", \"state\": \"ON\", \"display_address\": [\"478 Queen Street W\", \"Toronto, ON M5V 2B2\", \"Canada\"]}, \"phone\": \"+14163687258\", \"display_phone\": \"+1 416-368-7258\", \"distance\": 2921.275091303492}, {\"id\": \"q5xrVJ4kivx_yEfJeOKNYQ\", \"alias\": \"bar-isabel-toronto\", \"name\": \"Bar Isabel\", \"image_url\": \"https://s3-media1.fl.yelpcdn.com/bphoto/nk63u0JvadnPyjA_MHxUcg/o.jpg\", \"is_closed\": false, \"url\": \"https://www.yelp.com/biz/bar-isabel-toronto?adjust_creative=FtKJx3tKxygY3LUrNXmfyw&utm_campaign=yelp_api_v3&utm_medium=api_v3_business_search&utm_source=FtKJx3tKxygY3LUrNXmfyw\", \"review_count\": 425, \"categories\": [{\"alias\": \"spanish\", \"title\": \"Spanish\"}, {\"alias\": \"tapas\", \"title\": \"Tapas Bars\"}], \"rating\": 4.0, \"coordinates\": {\"latitude\": 43.654631, \"longitude\": -79.4207738}, \"transactions\": [], \"price\": \"$$$\", \"location\": {\"address1\": \"797 College Street\", \"address2\": \"\", \"address3\": \"\", \"city\": \"Toronto\", \"zip_code\": \"M6G 1C7\", \"country\": \"CA\", \"state\": \"ON\", \"display_address\": [\"797 College Street\", \"Toronto, ON M6G 1C7\", \"Canada\"]}, \"phone\": \"+14165322222\", \"display_phone\": \"+1 416-532-2222\", \"distance\": 2912.718682204373}, {\"id\": \"ttuEwktrkmh3TUlSFPZqAA\", \"alias\": \"banh-mi-boys-toronto-2\", \"name\": \"Banh Mi Boys\", \"image_url\": \"https://s3-media3.fl.yelpcdn.com/bphoto/5DGD7veB3PJ_qyEmi2_6Yw/o.jpg\", \"is_closed\": false, \"url\": \"https://www.yelp.com/biz/banh-mi-boys-toronto-2?adjust_creative=FtKJx3tKxygY3LUrNXmfyw&utm_campaign=yelp_api_v3&utm_medium=api_v3_business_search&utm_source=FtKJx3tKxygY3LUrNXmfyw\", \"review_count\": 492, \"categories\": [{\"alias\": \"vietnamese\", \"title\": \"Vietnamese\"}, {\"alias\": \"asianfusion\", \"title\": \"Asian Fusion\"}], \"rating\": 4.0, \"coordinates\": {\"latitude\": 43.6590974, \"longitude\": -79.3820781}, \"transactions\": [], \"price\": \"$\", \"location\": {\"address1\": \"399 Yonge Street\", \"address2\": \"\", \"address3\": \"\", \"city\": \"Toronto\", \"zip_code\": \"M5B\", \"country\": \"CA\", \"state\": \"ON\", \"display_address\": [\"399 Yonge Street\", \"Toronto, ON M5B\", \"Canada\"]}, \"phone\": \"+14169770303\", \"display_phone\": \"+1 416-977-0303\", \"distance\": 2063.2238635701956}, {\"id\": \"CN5nuUQod0f8g3oh99qq0w\", \"alias\": \"kinka-izakaya-annex-toronto-2\", \"name\": \"KINKA IZAKAYA ANNEX\", \"image_url\": \"https://s3-media1.fl.yelpcdn.com/bphoto/43RRSeAOPBk7r6qIzDfLnQ/o.jpg\", \"is_closed\": false, \"url\": \"https://www.yelp.com/biz/kinka-izakaya-annex-toronto-2?adjust_creative=FtKJx3tKxygY3LUrNXmfyw&utm_campaign=yelp_api_v3&utm_medium=api_v3_business_search&utm_source=FtKJx3tKxygY3LUrNXmfyw\", \"review_count\": 473, \"categories\": [{\"alias\": \"japanese\", \"title\": \"Japanese\"}, {\"alias\": \"tapasmallplates\", \"title\": \"Tapas/Small Plates\"}, {\"alias\": \"pubs\", \"title\": \"Pubs\"}], \"rating\": 4.0, \"coordinates\": {\"latitude\": 43.665157, \"longitude\": -79.410658}, \"transactions\": [\"restaurant_reservation\"], \"price\": \"$$\", \"location\": {\"address1\": \"559 Bloor St W\", \"address2\": \"\", \"address3\": \"\", \"city\": \"Toronto\", \"zip_code\": \"M5S 1Y6\", \"country\": \"CA\", \"state\": \"ON\", \"display_address\": [\"559 Bloor St W\", \"Toronto, ON M5S 1Y6\", \"Canada\"]}, \"phone\": \"+16473431101\", \"display_phone\": \"+1 647-343-1101\", \"distance\": 1506.0784402358188}, {\"id\": \"4_EgrMY-EI-i-xyWixI2qg\", \"alias\": \"mystic-muffin-toronto\", \"name\": \"Mystic Muffin\", \"image_url\": \"https://s3-media2.fl.yelpcdn.com/bphoto/P6jwBZnzrWKE8zxim5Md_g/o.jpg\", \"is_closed\": false, \"url\": \"https://www.yelp.com/biz/mystic-muffin-toronto?adjust_creative=FtKJx3tKxygY3LUrNXmfyw&utm_campaign=yelp_api_v3&utm_medium=api_v3_business_search&utm_source=FtKJx3tKxygY3LUrNXmfyw\", \"review_count\": 274, \"categories\": [{\"alias\": \"sandwiches\", \"title\": \"Sandwiches\"}, {\"alias\": \"mideastern\", \"title\": \"Middle Eastern\"}, {\"alias\": \"coffee\", \"title\": \"Coffee & Tea\"}], \"rating\": 4.5, \"coordinates\": {\"latitude\": 43.652457948594, \"longitude\": -79.372548881465}, \"transactions\": [], \"price\": \"$\", \"location\": {\"address1\": \"113 Jarvis Street\", \"address2\": \"\", \"address3\": \"\", \"city\": \"Toronto\", \"zip_code\": \"M5C 2H4\", \"country\": \"CA\", \"state\": \"ON\", \"display_address\": [\"113 Jarvis Street\", \"Toronto, ON M5C 2H4\", \"Canada\"]}, \"phone\": \"+14169411474\", \"display_phone\": \"+1 416-941-1474\", \"distance\": 3114.587698017476}, {\"id\": \"_xAJZOKBMPOe47p1MphB2w\", \"alias\": \"fishman-lobster-clubhouse-restaurant-toronto\", \"name\": \"Fishman Lobster Clubhouse Restaurant\", \"image_url\": \"https://s3-media4.fl.yelpcdn.com/bphoto/H6iQqtnjH6XHMeG3s-lM5g/o.jpg\", \"is_closed\": false, \"url\": \"https://www.yelp.com/biz/fishman-lobster-clubhouse-restaurant-toronto?adjust_creative=FtKJx3tKxygY3LUrNXmfyw&utm_campaign=yelp_api_v3&utm_medium=api_v3_business_search&utm_source=FtKJx3tKxygY3LUrNXmfyw\", \"review_count\": 962, \"categories\": [{\"alias\": \"chinese\", \"title\": \"Chinese\"}, {\"alias\": \"seafood\", \"title\": \"Seafood\"}], \"rating\": 4.0, \"coordinates\": {\"latitude\": 43.80190978113934, \"longitude\": -79.29539503439331}, \"transactions\": [], \"price\": \"$$$$\", \"location\": {\"address1\": \"4020 Finch Avenue E\", \"address2\": null, \"address3\": \"\", \"city\": \"Toronto\", \"zip_code\": \"M1S 3T6\", \"country\": \"CA\", \"state\": \"ON\", \"display_address\": [\"4020 Finch Avenue E\", \"Toronto, ON M1S 3T6\", \"Canada\"]}, \"phone\": \"+14163210250\", \"display_phone\": \"+1 416-321-0250\", \"distance\": 16364.48309840155}, {\"id\": \"c35qzLN6ItDpVIoj2uQW4Q\", \"alias\": \"ravi-soups-toronto\", \"name\": \"Ravi Soups\", \"image_url\": \"https://s3-media4.fl.yelpcdn.com/bphoto/UMgdLeHcPFHeK4R8jRha8g/o.jpg\", \"is_closed\": false, \"url\": \"https://www.yelp.com/biz/ravi-soups-toronto?adjust_creative=FtKJx3tKxygY3LUrNXmfyw&utm_campaign=yelp_api_v3&utm_medium=api_v3_business_search&utm_source=FtKJx3tKxygY3LUrNXmfyw\", \"review_count\": 363, \"categories\": [{\"alias\": \"sandwiches\", \"title\": \"Sandwiches\"}, {\"alias\": \"soup\", \"title\": \"Soup\"}], \"rating\": 4.5, \"coordinates\": {\"latitude\": 43.6477, \"longitude\": -79.39201}, \"transactions\": [], \"price\": \"$$\", \"location\": {\"address1\": \"322 Adelaide Street W\", \"address2\": \"\", \"address3\": \"\", \"city\": \"Toronto\", \"zip_code\": \"M5V 1R1\", \"country\": \"CA\", \"state\": \"ON\", \"display_address\": [\"322 Adelaide Street W\", \"Toronto, ON M5V 1R1\", \"Canada\"]}, \"phone\": \"+16474358365\", \"display_phone\": \"+1 647-435-8365\", \"distance\": 2989.9336564420223}, {\"id\": \"sXg2NCfiCqK_X_4R5NK_jQ\", \"alias\": \"barchef-toronto\", \"name\": \"BarChef\", \"image_url\": \"https://s3-media4.fl.yelpcdn.com/bphoto/KhWy0NUdQkhhd9SFQ7upbQ/o.jpg\", \"is_closed\": false, \"url\": \"https://www.yelp.com/biz/barchef-toronto?adjust_creative=FtKJx3tKxygY3LUrNXmfyw&utm_campaign=yelp_api_v3&utm_medium=api_v3_business_search&utm_source=FtKJx3tKxygY3LUrNXmfyw\", \"review_count\": 353, \"categories\": [{\"alias\": \"lounges\", \"title\": \"Lounges\"}, {\"alias\": \"cocktailbars\", \"title\": \"Cocktail Bars\"}], \"rating\": 4.5, \"coordinates\": {\"latitude\": 43.6482201, \"longitude\": -79.4001694}, \"transactions\": [], \"price\": \"$$$\", \"location\": {\"address1\": \"472 Queen Street W\", \"address2\": \"\", \"address3\": \"\", \"city\": \"Toronto\", \"zip_code\": \"M5V 2B2\", \"country\": \"CA\", \"state\": \"ON\", \"display_address\": [\"472 Queen Street W\", \"Toronto, ON M5V 2B2\", \"Canada\"]}, \"phone\": \"+14168684800\", \"display_phone\": \"+1 416-868-4800\", \"distance\": 2910.4421183317127}, {\"id\": \"Uq-GOs9_IqweUsB5MdII9w\", \"alias\": \"emmas-country-kitchen-toronto\", \"name\": \"Emma\\'s Country Kitchen\", \"image_url\": \"https://s3-media2.fl.yelpcdn.com/bphoto/eFNNI4h8YdD7g4pNHjd-NQ/o.jpg\", \"is_closed\": false, \"url\": \"https://www.yelp.com/biz/emmas-country-kitchen-toronto?adjust_creative=FtKJx3tKxygY3LUrNXmfyw&utm_campaign=yelp_api_v3&utm_medium=api_v3_business_search&utm_source=FtKJx3tKxygY3LUrNXmfyw\", \"review_count\": 398, \"categories\": [{\"alias\": \"breakfast_brunch\", \"title\": \"Breakfast & Brunch\"}, {\"alias\": \"bakeries\", \"title\": \"Bakeries\"}, {\"alias\": \"comfortfood\", \"title\": \"Comfort Food\"}], \"rating\": 4.0, \"coordinates\": {\"latitude\": 43.68103, \"longitude\": -79.4303599}, \"transactions\": [], \"price\": \"$$\", \"location\": {\"address1\": \"810 Saint Clair Avenue W\", \"address2\": \"\", \"address3\": \"\", \"city\": \"Toronto\", \"zip_code\": \"M6C 1B6\", \"country\": \"CA\", \"state\": \"ON\", \"display_address\": [\"810 Saint Clair Avenue W\", \"Toronto, ON M6C 1B6\", \"Canada\"]}, \"phone\": \"+14166523662\", \"display_phone\": \"+1 416-652-3662\", \"distance\": 2799.358007176635}, {\"id\": \"eKznX8VTfcQrjCqXpeobiw\", \"alias\": \"rasa-toronto\", \"name\": \"Rasa\", \"image_url\": \"https://s3-media3.fl.yelpcdn.com/bphoto/gwczv1fzmrMrYYfi-CXDjw/o.jpg\", \"is_closed\": false, \"url\": \"https://www.yelp.com/biz/rasa-toronto?adjust_creative=FtKJx3tKxygY3LUrNXmfyw&utm_campaign=yelp_api_v3&utm_medium=api_v3_business_search&utm_source=FtKJx3tKxygY3LUrNXmfyw\", \"review_count\": 272, \"categories\": [{\"alias\": \"newcanadian\", \"title\": \"Canadian (New)\"}, {\"alias\": \"tapasmallplates\", \"title\": \"Tapas/Small Plates\"}], \"rating\": 4.5, \"coordinates\": {\"latitude\": 43.6627752, \"longitude\": -79.4039682}, \"transactions\": [], \"price\": \"$$\", \"location\": {\"address1\": \"196 Robert Street\", \"address2\": \"\", \"address3\": \"\", \"city\": \"Toronto\", \"zip_code\": \"M5S 2K8\", \"country\": \"CA\", \"state\": \"ON\", \"display_address\": [\"196 Robert Street\", \"Toronto, ON M5S 2K8\", \"Canada\"]}, \"phone\": \"+16473508221\", \"display_phone\": \"+1 647-350-8221\", \"distance\": 1402.7329472369408}, {\"id\": \"O-uIEuv7JLUHajkemx_sVw\", \"alias\": \"beerbistro-toronto-3\", \"name\": \"Beerbistro\", \"image_url\": \"https://s3-media2.fl.yelpcdn.com/bphoto/aVwt7Jeg2o8kkaH9cGPfeg/o.jpg\", \"is_closed\": false, \"url\": \"https://www.yelp.com/biz/beerbistro-toronto-3?adjust_creative=FtKJx3tKxygY3LUrNXmfyw&utm_campaign=yelp_api_v3&utm_medium=api_v3_business_search&utm_source=FtKJx3tKxygY3LUrNXmfyw\", \"review_count\": 644, \"categories\": [{\"alias\": \"bistros\", \"title\": \"Bistros\"}, {\"alias\": \"beerbar\", \"title\": \"Beer Bar\"}], \"rating\": 4.0, \"coordinates\": {\"latitude\": 43.64945, \"longitude\": -79.377159}, \"transactions\": [], \"price\": \"$$\", \"location\": {\"address1\": \"18 King Street E\", \"address2\": \"\", \"address3\": \"\", \"city\": \"Toronto\", \"zip_code\": \"M5C 1C4\", \"country\": \"CA\", \"state\": \"ON\", \"display_address\": [\"18 King Street E\", \"Toronto, ON M5C 1C4\", \"Canada\"]}, \"phone\": \"+14168619872\", \"display_phone\": \"+1 416-861-9872\", \"distance\": 3182.0568988928935}], \"total\": 240, \"region\": {\"center\": {\"longitude\": -79.39682006835938, \"latitude\": 43.67428196976998}}}'\n"
     ]
    }
   ],
   "source": [
    "print(r.status_code, r.reason, r.content)"
   ]
  },
  {
   "cell_type": "code",
   "execution_count": null,
   "metadata": {
    "id": "eY8Mtg1bzZq6"
   },
   "outputs": [],
   "source": [
    "r.json()"
   ]
  },
  {
   "cell_type": "markdown",
   "metadata": {
    "id": "M_p44jd4u_QS"
   },
   "source": [
    "Yelp has a limit of 50 reviews per request. "
   ]
  },
  {
   "cell_type": "code",
   "execution_count": null,
   "metadata": {
    "id": "zGqi2Q1Dvwvq"
   },
   "outputs": [],
   "source": [
    "review_labels = []\n",
    "\n",
    "limit = 50\n",
    "offset_value = 5\n",
    "offsets = [x for x in range(offset_value)]\n",
    "\n",
    "for offset in offsets:\n",
    "  api_url = \"https://api.yelp.com/v3/businesses/search?location=Toronto&limit=50&offset={o}\".format(o = offset)\n",
    "  r = requests.get(api_url, headers={\"Authorization\": \"Bearer %s\" % YELP_TOKEN})\n",
    "\n",
    "  for business in r.json()['businesses']:\n",
    "    print(business['name'])\n",
    "    reviews = requests.get(\"https://api.yelp.com/v3/businesses/%s/reviews\" % business['id'], headers={\"Authorization\": \"Bearer %s\" % YELP_TOKEN}).json()\n",
    "    review_url = reviews['reviews'][0]['url']\n",
    "    page = requests.get(review_url)\n",
    "    soup = bs(page.content, 'html.parser')\n",
    "    allreview = soup.find_all(\"div\", class_ = lambda value: value and value.startswith(\"review__\"))\n",
    "    for review in allreview:\n",
    "      review_labels.append((review.find(\"span\", class_ = lambda value: value and value.startswith(\"raw__\")).text.rstrip('.'), reviews['reviews'][0]['rating']))\n",
    "\n",
    "review_labels"
   ]
  },
  {
   "cell_type": "markdown",
   "metadata": {
    "id": "OzRD9kuKFAhd"
   },
   "source": [
    "We use limit and offset to go through different pages of businesses to increase the sample size of reviews. In addition, we use beautiful soup to scrape the urls of each business to extract the top 10 reviews as visible on the website"
   ]
  },
  {
   "cell_type": "code",
   "execution_count": 35,
   "metadata": {
    "colab": {
     "base_uri": "https://localhost:8080/"
    },
    "id": "X7mgxXM6Tl_7",
    "outputId": "a6a9ffa0-7f9a-4364-af4d-bdc44bb8b716"
   },
   "outputs": [
    {
     "data": {
      "text/plain": [
       "2400"
      ]
     },
     "execution_count": 35,
     "metadata": {},
     "output_type": "execute_result"
    }
   ],
   "source": [
    "len(review_labels)"
   ]
  },
  {
   "cell_type": "code",
   "execution_count": null,
   "metadata": {
    "id": "0iVY_BM0zZq6"
   },
   "outputs": [],
   "source": [
    "review_features = [(x.split(' '), 'positive' if y > 3 else 'negative') for (x, y) in review_labels]\n",
    "review_features"
   ]
  },
  {
   "cell_type": "code",
   "execution_count": 22,
   "metadata": {
    "colab": {
     "base_uri": "https://localhost:8080/"
    },
    "id": "JbUwTJwzzZq7",
    "outputId": "02aeab3f-7ca0-48d8-f597-a5bc28e01d02"
   },
   "outputs": [
    {
     "name": "stdout",
     "output_type": "stream",
     "text": [
      "Training: 1500, Testing: 900\n"
     ]
    },
    {
     "name": "stderr",
     "output_type": "stream",
     "text": [
      "/usr/local/lib/python3.7/dist-packages/nltk/twitter/__init__.py:20: UserWarning: The twython library has not been installed. Some functionality from the twitter package will not be available.\n",
      "  warnings.warn(\"The twython library has not been installed. \"\n"
     ]
    }
   ],
   "source": [
    "from nltk.sentiment import SentimentAnalyzer\n",
    "import nltk.sentiment.util\n",
    "from nltk.classify import NaiveBayesClassifier\n",
    "\n",
    "random.shuffle(review_features)\n",
    "training_docs = review_features[:1500]\n",
    "test_docs = review_features[1500:]\n",
    "\n",
    "print(\"Training: %d, Testing: %d\" % (len(training_docs), len(test_docs)))\n",
    "\n",
    "sentim_analyzer = SentimentAnalyzer()"
   ]
  },
  {
   "cell_type": "code",
   "execution_count": null,
   "metadata": {
    "id": "XDvjWZYmzZq7"
   },
   "outputs": [],
   "source": [
    "all_words_neg = sentim_analyzer.all_words([nltk.sentiment.util.mark_negation(doc) for doc in training_docs])\n",
    "all_words_neg"
   ]
  },
  {
   "cell_type": "code",
   "execution_count": 24,
   "metadata": {
    "id": "u-uVODzzzZq7"
   },
   "outputs": [],
   "source": [
    "unigram_feats = sentim_analyzer.unigram_word_feats(all_words_neg, min_freq=4)\n",
    "sentim_analyzer.add_feat_extractor(nltk.sentiment.util.extract_unigram_feats, unigrams=unigram_feats)"
   ]
  },
  {
   "cell_type": "code",
   "execution_count": 25,
   "metadata": {
    "id": "u5XQ-GWSzZq7"
   },
   "outputs": [],
   "source": [
    "training_set = sentim_analyzer.apply_features(training_docs)\n",
    "test_set = sentim_analyzer.apply_features(test_docs)"
   ]
  },
  {
   "cell_type": "code",
   "execution_count": 26,
   "metadata": {
    "colab": {
     "base_uri": "https://localhost:8080/"
    },
    "id": "G3PniGamzZq8",
    "outputId": "28a21668-ef0e-4fa9-f390-c0ba950b0a80"
   },
   "outputs": [
    {
     "name": "stdout",
     "output_type": "stream",
     "text": [
      "Training classifier\n",
      "Evaluating NaiveBayesClassifier results...\n",
      "Accuracy: 0.9933333333333333\n",
      "F-measure [negative]: 0.8235294117647058\n",
      "F-measure [positive]: 0.9966024915062287\n",
      "Precision [negative]: 1.0\n",
      "Precision [positive]: 0.9932279909706546\n",
      "Recall [negative]: 0.7\n",
      "Recall [positive]: 1.0\n"
     ]
    }
   ],
   "source": [
    "trainer = NaiveBayesClassifier.train\n",
    "classifier = sentim_analyzer.train(trainer, training_set)\n",
    "for key,value in sorted(sentim_analyzer.evaluate(test_set).items()):\n",
    "     print('{0}: {1}'.format(key, value))"
   ]
  },
  {
   "cell_type": "markdown",
   "metadata": {
    "id": "gu75g8-3Ex1s"
   },
   "source": [
    "We get a much higher accuracy with this dataset."
   ]
  }
 ],
 "metadata": {
  "colab": {
   "collapsed_sections": [],
   "name": "API Assignment_1008249003.ipynb",
   "provenance": []
  },
  "kernelspec": {
   "display_name": "Python 3",
   "language": "python",
   "name": "python3"
  },
  "language_info": {
   "codemirror_mode": {
    "name": "ipython",
    "version": 3
   },
   "file_extension": ".py",
   "mimetype": "text/x-python",
   "name": "python",
   "nbconvert_exporter": "python",
   "pygments_lexer": "ipython3",
   "version": "3.7.7"
  }
 },
 "nbformat": 4,
 "nbformat_minor": 1
}
